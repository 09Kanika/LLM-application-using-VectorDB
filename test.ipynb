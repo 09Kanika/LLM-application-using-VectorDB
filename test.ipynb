{
 "cells": [
  {
   "cell_type": "code",
   "execution_count": null,
   "metadata": {},
   "outputs": [],
   "source": [
    "import google.generativeai as genai\n",
    "import os\n",
    "from dotenv import load_dotenv\n",
    "import langchain\n",
    "import pinecone\n",
    "from langchain.document_loaders import PyPDFDirectoryLoader\n",
    "from langchain.text_splitter import RecursiveCharacterTextSplitter\n",
    "from langchain.embeddings.base import Embeddings\n",
    "import gemini \n",
    "class GeminiEmbeddings(Embeddings):\n",
    "    def __init__(self, model_name: str):\n",
    "        self.model = gemini.load_model(model_name)\n",
    "        \n",
    "    def embed_documents(self, documents: list) -> list:\n",
    "        return [self.model.encode(doc) for doc in documents]\n",
    "\n",
    "    def embed_query(self, query: str) -> list:\n",
    "        return self.model.encode(query)\n",
    "\n",
    "load_dotenv()\n",
    "\n",
    "\n",
    "\n",
    "genai.configure(api_key=os.getenv(\"GOOGLE_API_KEY\"))"
   ]
  }
 ],
 "metadata": {
  "kernelspec": {
   "display_name": "venv",
   "language": "python",
   "name": "python3"
  },
  "language_info": {
   "name": "python",
   "version": "3.12.1"
  }
 },
 "nbformat": 4,
 "nbformat_minor": 2
}
